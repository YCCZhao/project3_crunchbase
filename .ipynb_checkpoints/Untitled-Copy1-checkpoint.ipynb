{
 "cells": [
  {
   "cell_type": "code",
   "execution_count": 1,
   "metadata": {
    "collapsed": true
   },
   "outputs": [],
   "source": [
    "import pickle\n",
    "import glob\n",
    "import pandas as pd\n",
    "import numpy as np\n",
    "import matplotlib.pyplot as plt\n",
    "import re\n",
    "from collections import Counter\n",
    "\n",
    "%matplotlib inline"
   ]
  },
  {
   "cell_type": "code",
   "execution_count": 2,
   "metadata": {
    "collapsed": true
   },
   "outputs": [],
   "source": [
    "relationship_df = pickle.load(open('relationship_clean_df', 'rb'))\n",
    "person_df = pickle.load(open('person_clean_df', 'rb'))\n",
    "company_df = pickle.load(open('company_with_person_info', 'rb'))\n",
    "degrees_df = pickle.load(open('degrees_grouped_df', 'rb'))\n",
    "#acquisitions_df = pickle.load(open('acquisitions_df', 'rb'))\n",
    "#ipo_df = pickle.load(open('ipo_clean_df', 'rb'))\n",
    "#milestone_df = pickle.load(open('milestones_person_df', 'rb'))"
   ]
  },
  {
   "cell_type": "code",
   "execution_count": 4,
   "metadata": {
    "collapsed": true
   },
   "outputs": [],
   "source": [
    "degrees_df.degree_type = degrees_df.degree_type.replace({'other': 0,\n",
    "                                'high_school': 1,\n",
    "                                'associate' :2,\n",
    "                                'bachelor': 3,\n",
    "                                'master': 4,\n",
    "                                'phd_or_above': 5})"
   ]
  },
  {
   "cell_type": "code",
   "execution_count": 5,
   "metadata": {},
   "outputs": [
    {
     "data": {
      "text/plain": [
       "<matplotlib.axes._subplots.AxesSubplot at 0x1da673a89b0>"
      ]
     },
     "execution_count": 5,
     "metadata": {},
     "output_type": "execute_result"
    },
    {
     "data": {
      "image/png": "[encoded data removed]",
      "text/plain": [
       "<matplotlib.figure.Figure at 0x1da5d2d45c0>"
      ]
     },
     "metadata": {},
     "output_type": "display_data"
    }
   ],
   "source": [
    "company_df.y.value_counts().plot(kind='bar')"
   ]
  },
  {
   "cell_type": "code",
   "execution_count": 156,
   "metadata": {},
   "outputs": [],
   "source": [
    "company_df['founders_edu'] = company_df[1.0] * 1 + company_df[2.0] * 2 \\\n",
    "                            + company_df[3.0] * 3 + company_df[4.0] * 4 + company_df[5.0] * 5"
   ]
  },
  {
   "cell_type": "code",
   "execution_count": 169,
   "metadata": {
    "collapsed": true
   },
   "outputs": [],
   "source": [
    "company_df['tech'] = (company_df.iloc[:,26] + company_df.iloc[:,27] + company_df.iloc[:,28] \n",
    "                                     + company_df.iloc[:,38] + company_df.iloc[:,39] + company_df.iloc[:,54])"
   ]
  },
  {
   "cell_type": "code",
   "execution_count": 170,
   "metadata": {},
   "outputs": [
    {
     "data": {
      "text/plain": [
       "[(0, 'permalink'),\n",
       " (1, 'name'),\n",
       " (2, 'category_code'),\n",
       " (3, 'description'),\n",
       " (4, 'overview'),\n",
       " (5, 'founded_year'),\n",
       " (6, 'y'),\n",
       " (7, '#female_founders'),\n",
       " (8, '#male_founders'),\n",
       " (9, '#total_founders'),\n",
       " (10, 'nth_startup'),\n",
       " (11, 0.0),\n",
       " (12, 1.0),\n",
       " (13, 2.0),\n",
       " (14, 3.0),\n",
       " (15, 4.0),\n",
       " (16, 5.0),\n",
       " (17, 'accounting'),\n",
       " (18, 'biology'),\n",
       " (19, 'business'),\n",
       " (20, 'business administration'),\n",
       " (21, 'business management'),\n",
       " (22, 'chemical engineering'),\n",
       " (23, 'chemistry'),\n",
       " (24, 'civil engineering'),\n",
       " (25, 'communications'),\n",
       " (26, 'computer engineering'),\n",
       " (27, 'computer science'),\n",
       " (28, 'computer science and engineering'),\n",
       " (29, 'economics'),\n",
       " (30, 'electrical engineering'),\n",
       " (31, 'engineering'),\n",
       " (32, 'english'),\n",
       " (33, 'entrepreneurship'),\n",
       " (34, 'finance'),\n",
       " (35, 'graphic design'),\n",
       " (36, 'history'),\n",
       " (37, 'industrial engineering'),\n",
       " (38, 'information systems'),\n",
       " (39, 'information technology'),\n",
       " (40, 'international business'),\n",
       " (41, 'international relations'),\n",
       " (42, 'journalism'),\n",
       " (43, 'law'),\n",
       " (44, 'management'),\n",
       " (45, 'marketing'),\n",
       " (46, 'mathematics'),\n",
       " (47, 'mba'),\n",
       " (48, 'mechanical engineering'),\n",
       " (49, 'other'),\n",
       " (50, 'philosophy'),\n",
       " (51, 'physics'),\n",
       " (52, 'political science'),\n",
       " (53, 'psychology'),\n",
       " (54, 'software engineering'),\n",
       " (55, 'founders_edu'),\n",
       " (56, 'business_background'),\n",
       " (57, 'science'),\n",
       " (58, 'art'),\n",
       " (59, 'tech')]"
      ]
     },
     "execution_count": 170,
     "metadata": {},
     "output_type": "execute_result"
    }
   ],
   "source": [
    "list(zip(range(len(company_df.columns.tolist())),company_df.columns.tolist()))"
   ]
  },
  {
   "cell_type": "code",
   "execution_count": 177,
   "metadata": {},
   "outputs": [],
   "source": [
    "import numpy as np\n",
    "categories = pd.get_dummies(company_df.category_code)\n",
    "founders = company_df[['#female_founders','#male_founders','#total_founders', 'nth_startup']]\n",
    "founder_backgroud = company_df[['founders_edu', 'business_background', 'science', 'art', 'tech']]\n",
    "other_features = company_df['founded_year']\n",
    "features = pd.concat([categories, founders, founder_backgroud, other_features], axis=1).fillna(0)\n",
    "feature_names = features.columns.tolist()\n",
    "outcome = company_df.y"
   ]
  },
  {
   "cell_type": "code",
   "execution_count": 193,
   "metadata": {},
   "outputs": [
    {
     "data": {
      "text/plain": [
       "raised_money    3086\n",
       "acquired         661\n",
       "dead              90\n",
       "ipo               49\n",
       "Name: y, dtype: int64"
      ]
     },
     "execution_count": 193,
     "metadata": {},
     "output_type": "execute_result"
    }
   ],
   "source": [
    "foo.y.value_counts()"
   ]
  },
  {
   "cell_type": "code",
   "execution_count": 190,
   "metadata": {},
   "outputs": [],
   "source": [
    "foo = pd.concat([features, outcome], axis=1)"
   ]
  },
  {
   "cell_type": "code",
   "execution_count": 202,
   "metadata": {},
   "outputs": [],
   "source": [
    "balanced = pd.concat([foo[foo.y!='raised_money'], foo[foo.y=='raised_money'].sample(frac=0.2)])\n",
    "X = balanced.iloc[:,:-1]\n",
    "y = balanced.iloc[:,-1]"
   ]
  },
  {
   "cell_type": "code",
   "execution_count": 219,
   "metadata": {
    "collapsed": true
   },
   "outputs": [],
   "source": [
    "class_weight = {'acquired' : 1.,\n",
    "                'dead': 5.,\n",
    "                'ipo': 5.,\n",
    "                'raised_money':  1.\n",
    "               }"
   ]
  },
  {
   "cell_type": "code",
   "execution_count": 220,
   "metadata": {},
   "outputs": [
    {
     "data": {
      "text/plain": [
       "0.56056338028169017"
      ]
     },
     "execution_count": 220,
     "metadata": {},
     "output_type": "execute_result"
    }
   ],
   "source": [
    "X = np.array(X)\n",
    "\n",
    "y = np.array(y)\n",
    "\n",
    "from sklearn.model_selection import train_test_split\n",
    "X_train, X_test, y_train, y_test = train_test_split(X, y)\n",
    "\n",
    "from sklearn.linear_model import LogisticRegression\n",
    "\n",
    "log_reg = LogisticRegression(class_weight=class_weight)\n",
    "log_reg.fit(X_train, y_train)\n",
    "log_reg.score(X_test, y_test)\n",
    "#temp = list(zip(features,log_reg.coef_[0]))\n",
    "#temp.sort(reverse=True, key=lambda x: x[1])"
   ]
  },
  {
   "cell_type": "code",
   "execution_count": 221,
   "metadata": {
    "collapsed": true
   },
   "outputs": [],
   "source": [
    "from sklearn.metrics import classification_report"
   ]
  },
  {
   "cell_type": "code",
   "execution_count": 222,
   "metadata": {},
   "outputs": [
    {
     "name": "stdout",
     "output_type": "stream",
     "text": [
      "              precision    recall  f1-score   support\n",
      "\n",
      "    acquired       0.51      0.71      0.59       145\n",
      "        dead       0.00      0.00      0.00        19\n",
      "         ipo       0.50      0.13      0.21        15\n",
      "raised_money       0.64      0.53      0.58       176\n",
      "\n",
      " avg / total       0.55      0.56      0.54       355\n",
      "\n"
     ]
    }
   ],
   "source": [
    "print(classification_report(y_test, log_reg.predict(X_test)))"
   ]
  },
  {
   "cell_type": "code",
   "execution_count": null,
   "metadata": {
    "collapsed": true
   },
   "outputs": [],
   "source": [
    "classes = log_reg.classes_\n",
    "coef_dict = {}\n",
    "\n",
    "for i, class_ in enumerate(classes):\n",
    "    coef_dict[class_] = log_reg.coef_[i]"
   ]
  },
  {
   "cell_type": "code",
   "execution_count": null,
   "metadata": {
    "collapsed": true
   },
   "outputs": [],
   "source": [
    "coef_dict['dead'].shape"
   ]
  },
  {
   "cell_type": "code",
   "execution_count": null,
   "metadata": {
    "collapsed": true
   },
   "outputs": [],
   "source": [
    "coef_dict[class_].shape"
   ]
  },
  {
   "cell_type": "code",
   "execution_count": null,
   "metadata": {
    "collapsed": true
   },
   "outputs": [],
   "source": [
    "fig, axes = plt.subplots(5,1, figsize=(8,30))\n",
    "i = 0\n",
    "for class_ in coef_dict.keys():\n",
    "    axes[i].barh(np.arange(len(features)), coef_dict[class_])\n",
    "    axes[i].set_yticks(np.arange(len(features)))\n",
    "    axes[i].set_yticklabels(features)\n",
    "    axes[i].set_title(class_)\n",
    "    i += 1"
   ]
  },
  {
   "cell_type": "code",
   "execution_count": null,
   "metadata": {
    "collapsed": true
   },
   "outputs": [],
   "source": [
    "companies = company_df1[(company_df1['#total_founders'].isnull()) & (company_df1.y != \"others\")].permalink.tolist()\n",
    "company_need_person = company_df[company_df.permalink.isin(companies)]\n",
    "#company_need_person"
   ]
  },
  {
   "cell_type": "code",
   "execution_count": null,
   "metadata": {
    "collapsed": true
   },
   "outputs": [],
   "source": []
  },
  {
   "cell_type": "code",
   "execution_count": null,
   "metadata": {
    "collapsed": true
   },
   "outputs": [],
   "source": []
  },
  {
   "cell_type": "code",
   "execution_count": null,
   "metadata": {
    "collapsed": true
   },
   "outputs": [],
   "source": [
    "from sklearn.feature_extraction.text import CountVectorizer\n",
    "from sklearn.feature_extraction.text import TfidfTransformer\n",
    "\n",
    "\n",
    "count_vect = CountVectorizer(stop_words='english', max_features=1000)\n",
    "X_train_counts = count_vect.fit_transform(company_df.description)\n",
    "X_train_counts.shape\n",
    "\n",
    "text_features = count_vect.get_feature_names()\n",
    "\n",
    "tfidf_transformer = TfidfTransformer()\n",
    "X_train_tfidf = tfidf_transformer.fit_transform(X_train_counts)\n",
    "X_train_tfidf.toarray()"
   ]
  },
  {
   "cell_type": "code",
   "execution_count": null,
   "metadata": {
    "collapsed": true
   },
   "outputs": [],
   "source": []
  },
  {
   "cell_type": "code",
   "execution_count": null,
   "metadata": {
    "collapsed": true
   },
   "outputs": [],
   "source": []
  },
  {
   "cell_type": "code",
   "execution_count": null,
   "metadata": {
    "collapsed": true
   },
   "outputs": [],
   "source": []
  }
 ],
 "metadata": {
  "kernelspec": {
   "display_name": "Python 3",
   "language": "python",
   "name": "python3"
  },
  "language_info": {
   "codemirror_mode": {
    "name": "ipython",
    "version": 3
   },
   "file_extension": ".py",
   "mimetype": "text/x-python",
   "name": "python",
   "nbconvert_exporter": "python",
   "pygments_lexer": "ipython3",
   "version": "3.6.1"
  }
 },
 "nbformat": 4,
 "nbformat_minor": 2
}
