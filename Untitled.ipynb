{
 "cells": [
  {
   "cell_type": "code",
   "execution_count": null,
   "metadata": {
    "collapsed": true
   },
   "outputs": [],
   "source": [
    "import pickle\n",
    "import glob\n",
    "import pandas as pd\n",
    "import numpy as np\n",
    "import matplotlib.pyplot as plt\n",
    "import re\n",
    "from collections import Counter\n",
    "\n",
    "%matplotlib inline"
   ]
  },
  {
   "cell_type": "code",
   "execution_count": null,
   "metadata": {
    "collapsed": true
   },
   "outputs": [],
   "source": [
    "relationship_df = pickle.load(open('relationship_clean_df', 'rb'))\n",
    "person_df = pickle.load(open('person_clean_df', 'rb'))\n",
    "company_df = pickle.load(open('company_with_person_info', 'rb'))\n",
    "degrees_df = pickle.load(open('degrees_grouped_df', 'rb'))\n",
    "#acquisitions_df = pickle.load(open('acquisitions_df', 'rb'))\n",
    "#ipo_df = pickle.load(open('ipo_clean_df', 'rb'))\n",
    "#milestone_df = pickle.load(open('milestones_person_df', 'rb'))"
   ]
  },
  {
   "cell_type": "code",
   "execution_count": null,
   "metadata": {},
   "outputs": [],
   "source": [
    "degrees_df.degree_type.unique()"
   ]
  },
  {
   "cell_type": "code",
   "execution_count": null,
   "metadata": {},
   "outputs": [],
   "source": [
    "degrees_df.degree_type = degrees_df.degree_type.replace({'other': 0,\n",
    "                                'high_school': 1,\n",
    "                                'associate' :2,\n",
    "                                'bachelor': 3,\n",
    "                                'master': 4,\n",
    "                                'phd_or_above': 5})"
   ]
  },
  {
   "cell_type": "code",
   "execution_count": null,
   "metadata": {},
   "outputs": [],
   "source": [
    "company_df.y.value_counts().plot(kind='bar')"
   ]
  },
  {
   "cell_type": "markdown",
   "metadata": {},
   "source": [
    "## Company Data"
   ]
  },
  {
   "cell_type": "code",
   "execution_count": null,
   "metadata": {},
   "outputs": [],
   "source": [
    "company_df = company_df.dropna(subset=['category_code', 'description'])\n",
    "company_df = company_df[(company_df.number_of_employees != -1) | (company_df.y != 'others')]\n",
    "company_df = company_df[(company_df.founded_year.notnull()) | (company_df.y != 'others')]\n",
    "\n",
    "company_df['founded_year'] = company_df.founded_year.astype(\"float64\")\n",
    "\n",
    "company_df = company_df[(company_df['founded_year'] > 1900) | (company_df.y != 'others')]\n",
    "company_df.founded_year = (company_df.founded_year\n",
    "                            .fillna(round(np.mean(company_df.founded_year),0))\n",
    "                            .astype(\"int32\"))\n",
    "\n",
    "company_df['overview'] = company_df['overview'].str.lower().str.strip('</p>').str.strip('<p>')\n",
    "company_df['description'] = company_df['description'].str.lower().str.strip('</p>').str.strip('<p>')\n",
    "\n",
    "company_df.overview.fillna(\"\")\n",
    "company_df.overview = company_df.overview.fillna(\"\")\n",
    "company_df.overview.apply(lambda x: re.sub(r'[^\\w\\s\\d]',' ',x))\n",
    "\n",
    "company_df.description.fillna(\"\")\n",
    "company_df.description = company_df.description.fillna(\"\")\n",
    "company_df.description.apply(lambda x: re.sub(r'[^\\w\\s\\d]',' ',x))\n",
    "\n",
    "company_df = company_df.drop(['alias_list', 'ipo', 'acquisition',\n",
    "                              'twitter_username', 'number_of_employees', \n",
    "                              'total_money_raised', 'founded_month', 'founded_day',\n",
    "                              'number_of_employees',  'deadpooled_year',\n",
    "                              'deadpooled_month', 'deadpooled_day',\n",
    "                              'is_ipo', 'is_acquired', 'is_dead',\n",
    "                              'money_raised', 'money_raised_currency'], axis=1)\n",
    "\n",
    "company_df.y.hist()"
   ]
  },
  {
   "cell_type": "code",
   "execution_count": null,
   "metadata": {},
   "outputs": [],
   "source": [
    "company_df[company_df.y == 'others']"
   ]
  },
  {
   "cell_type": "markdown",
   "metadata": {},
   "source": [
    "## Relationship Data"
   ]
  },
  {
   "cell_type": "code",
   "execution_count": null,
   "metadata": {
    "collapsed": true
   },
   "outputs": [],
   "source": [
    "def extract_title(x):\n",
    "    titles = {'founder':['founder', 'co-foudner'],\n",
    "              'ceo':['ceo', 'president', 'presient', 'chairman','executive'],\n",
    "              'c-suite': ['cso','cbo', 'cco', 'cpo', 'cdo', 'cio', 'cto', 'cmo', 'cfo', 'coo', 'chief','vp'],\n",
    "              'board-member': ['board member', 'advisor', 'adviser', 'board'],\n",
    "              'senior': ['senior','manager', 'head', 'lead', 'dir', 'director']}\n",
    "    \n",
    "    \"\"\"\n",
    "              'tech': ['developer', 'technology', 'engineer', 'technical'],\n",
    "              'business': ['marketing', 'business', 'strategy', 'investor', 'trader'],\n",
    "              'communication': ['communication', 'correspondent', 'author', 'writer']\n",
    "    \"\"\"\n",
    "    \n",
    "    for title in titles.keys():\n",
    "        for alt_name in titles[title]:\n",
    "            if alt_name in x.lower():\n",
    "                return title\n",
    "    return 'other'\n",
    "            \n",
    "\n",
    "relationship_df['grouped_title'] = relationship_df.title.apply(extract_title)"
   ]
  },
  {
   "cell_type": "markdown",
   "metadata": {},
   "source": [
    "## Person Data"
   ]
  },
  {
   "cell_type": "code",
   "execution_count": null,
   "metadata": {
    "collapsed": true
   },
   "outputs": [],
   "source": [
    "def extract_gender(x):\n",
    "   \n",
    "    word_count = Counter(x.strip(\"</p>\").strip(\"</p>\").lower().split())\n",
    "    gender_pron = {'female': ['she', 'her'],\n",
    "                   'male': ['he', 'him', 'his']}\n",
    "    \n",
    "    pron_count = {'female': 0, 'male': 0}\n",
    "    \n",
    "    for key, words in gender_pron.items():\n",
    "        for word in words:\n",
    "            if word in word_count:\n",
    "                pron_count[key] += word_count[word]\n",
    "    \n",
    "    if pron_count['female'] > pron_count['male']:\n",
    "        return 'female'\n",
    "    elif pron_count['female'] < pron_count['male']:\n",
    "        return 'male'\n",
    "    else:\n",
    "        return np.nan\n",
    "\n",
    "#person_df = person_df.drop(['degrees', 'alias_list', 'affiliation_name'], axis=1)\n",
    "\n",
    "person_df.overview = person_df.overview.fillna(\"\")\n",
    "person_df['gender'] = person_df.overview.apply(extract_gender)\n",
    "\n",
    "#person_join_relationship = person_df.set_index('permalink').join(relationship_df.set_index('person_permalink'))\n",
    "#person_with_title = (person_join_relationship[person_join_relationship.grouped_title.isin(['ceo','founder','c-suite'])]\n",
    "#                     .index.tolist())\n",
    "#person_df = person_df[person_df.permalink.isin(person_with_title)]\n",
    "#person_df.overview = person_df.overview.replace(\"\",np.NaN)"
   ]
  },
  {
   "cell_type": "markdown",
   "metadata": {},
   "source": [
    "## Degree Data"
   ]
  },
  {
   "cell_type": "code",
   "execution_count": null,
   "metadata": {},
   "outputs": [],
   "source": [
    "degrees_df.degree_type.value_counts()"
   ]
  },
  {
   "cell_type": "code",
   "execution_count": null,
   "metadata": {
    "collapsed": true
   },
   "outputs": [],
   "source": [
    "def extract_degree_type(x):\n",
    "    if \"ph d\" in x or \"phd\" in x or \"post\" in x or \"doctoral\" in x or \"doctorate \" in x:\n",
    "        return \"phd_or_postdoc\"\n",
    "    elif \"master\" in x or \"ms\" in x or \"ma\" in x or \"me\" in x or 'mba' in x:\n",
    "        return \"master\"\n",
    "    elif \"bs\" in x  or \"bache\" in x or 'ba' in x or \"be\" in x or \"sc b\" in x or \"scb\" in x or 'sb' in x:\n",
    "        return \"bachelor\"\n",
    "    elif \"under\" in x:\n",
    "        return 'undergrad'\n",
    "    elif \"assoc\" in x:\n",
    "        return \"associate\"\n",
    "    elif \"jd\" in x or 'law' in x:\n",
    "        return \"jd\"\n",
    "    else:\n",
    "        return \"other\"\n",
    "    \n",
    "degrees_df.degree_type = (degrees_df.degree_type.str.replace(\".\",\"\")\n",
    "                     .str.lower()\n",
    "                     .str.strip()\n",
    "                     .apply(extract_degree_type))"
   ]
  },
  {
   "cell_type": "code",
   "execution_count": null,
   "metadata": {
    "collapsed": true
   },
   "outputs": [],
   "source": [
    "degree_map = pd.read_csv('degree_map.csv', header=None)\n",
    "\n",
    "degree_replacement_map = (degree_map.set_index(0).to_dict())[1]\n",
    "\n",
    "main_degrees = list(set(degree_replacement_map.values()))\n",
    "\n",
    "degrees_df.degree_type = (degrees_df.degree_type.str.replace(\".\",\"\")\n",
    "                          .str.lower()\n",
    "                          .str.strip()\n",
    "                          .replace(degree_replacement_map))\n",
    "\n",
    "degrees_df.loc[~degrees_df.degree_type.isin(main_degrees),'degree_type'] = 'other'\n",
    "\n",
    "degrees_df.subject = degrees_df.subject.str.lower()\n",
    "\n",
    "major_counts = degrees_df.subject.value_counts()\n",
    "main_majors = major_counts[major_counts > 50].index.tolist()\n",
    "\n",
    "\n",
    "degrees_df.loc[~degrees_df.subject.isin(main_majors),'subject'] = 'other'\n",
    "\n",
    "degrees_df.degree_type.str.replace(\".\",\"\").str.lower().str.strip().value_counts().to_csv('temp.csv')\n",
    "\n",
    "degrees_df.degree_type.value_counts().to_csv('temp.csv')"
   ]
  },
  {
   "cell_type": "markdown",
   "metadata": {},
   "source": [
    "## Join"
   ]
  },
  {
   "cell_type": "code",
   "execution_count": null,
   "metadata": {
    "collapsed": true
   },
   "outputs": [],
   "source": [
    "foo = pd.merge(person_df, relationship_df, left_on=\"permalink\", right_on=\"person_permalink\")\n",
    "#foo = foo[foo.grouped_title.isin(['founder'])]      #\n",
    "foo = foo[foo.grouped_title.isin(['ceo', 'c-suite', 'senior'])]                             \n",
    "\n",
    "bar1 = pd.merge(foo, company_need_person, left_on='company_permalink', right_on='permalink')\n",
    "#bar['nth_startup'] = bar.sort_values(['permalink_x', 'founded_year']).groupby('permalink_x').cumcount()\n",
    "#bar.overview_x = bar.overview_x.str.strip(\"</p>\").str.strip(\"<p>\")\n",
    "#bar.nth_startup = bar.nth_startup + 1\n",
    "\n",
    "#bar.groupby('permalink_y')['permalink_x'].count().sort_values(ascending=False)"
   ]
  },
  {
   "cell_type": "code",
   "execution_count": null,
   "metadata": {
    "collapsed": true
   },
   "outputs": [],
   "source": [
    "bar = pd.concat([bar, bar1], axis=0, ignore_index=True)"
   ]
  },
  {
   "cell_type": "code",
   "execution_count": null,
   "metadata": {},
   "outputs": [],
   "source": [
    "bar"
   ]
  },
  {
   "cell_type": "code",
   "execution_count": null,
   "metadata": {
    "collapsed": true
   },
   "outputs": [],
   "source": [
    "bar['nth_startup'] = bar.sort_values(['permalink_x', 'founded_year']).groupby('permalink_x').cumcount()\n",
    "bar.overview_x = bar.overview_x.str.strip(\"</p>\").str.strip(\"<p>\")\n",
    "bar.nth_startup = bar.nth_startup + 1"
   ]
  },
  {
   "cell_type": "code",
   "execution_count": null,
   "metadata": {},
   "outputs": [],
   "source": [
    "bar"
   ]
  },
  {
   "cell_type": "code",
   "execution_count": null,
   "metadata": {
    "collapsed": true
   },
   "outputs": [],
   "source": [
    "female_founder = (bar[bar.gender == 'female']\n",
    "                  .groupby('company_permalink', as_index=False)\n",
    "                  ['permalink_x']\n",
    "                  .count())\n",
    "male_founder = (bar[bar.gender == 'male']\n",
    "                .groupby('company_permalink', as_index=False)\n",
    "                ['permalink_x']\n",
    "                .count())\n",
    "total_founder =  bar.groupby('company_permalink', as_index=False)['permalink_x'].count()\n",
    "avg_nth_startup = bar.groupby('company_permalink', as_index=False)['nth_startup'].mean()"
   ]
  },
  {
   "cell_type": "code",
   "execution_count": null,
   "metadata": {},
   "outputs": [],
   "source": [
    "company_df"
   ]
  },
  {
   "cell_type": "code",
   "execution_count": null,
   "metadata": {
    "collapsed": true
   },
   "outputs": [],
   "source": [
    "company_df = (pd.merge(company_df, \n",
    "                      female_founder, \n",
    "                      left_on='permalink', \n",
    "                      right_on='company_permalink',\n",
    "                      how='outer')\n",
    "              .rename(columns={'permalink_x': '#female_founders'})\n",
    "             .drop('company_permalink', axis=1))\n",
    "\n",
    "company_df = (pd.merge(company_df, \n",
    "                      male_founder, \n",
    "                      left_on='permalink', \n",
    "                      right_on='company_permalink',\n",
    "                      how='outer')\n",
    "              .rename(columns={'permalink_x': '#male_founders'})\n",
    "             .drop('company_permalink', axis=1))\n",
    "\n",
    "company_df = (pd.merge(company_df, \n",
    "                      total_founder, \n",
    "                      left_on='permalink', \n",
    "                      right_on='company_permalink',\n",
    "                      how='outer')\n",
    "              .rename(columns={'permalink_x': '#total_founders'})\n",
    "              .drop('company_permalink', axis=1))\n",
    "\n",
    "company_df = (pd.merge(company_df, \n",
    "                      avg_nth_startup, \n",
    "                      left_on='permalink', \n",
    "                      right_on='company_permalink',\n",
    "                      how='outer')\n",
    "              .drop('company_permalink', axis=1))"
   ]
  },
  {
   "cell_type": "code",
   "execution_count": null,
   "metadata": {
    "collapsed": true
   },
   "outputs": [],
   "source": [
    "company_df = company_df.dropna(subset=['#total_founders'])"
   ]
  },
  {
   "cell_type": "code",
   "execution_count": null,
   "metadata": {},
   "outputs": [],
   "source": [
    "data_tofit = company_df[company_df.y != 'others']"
   ]
  },
  {
   "cell_type": "code",
   "execution_count": null,
   "metadata": {},
   "outputs": [],
   "source": [
    "categories = pd.get_dummies(data_tofit.category_code)\n",
    "category_names = categories.columns.tolist()\n",
    "#categories"
   ]
  },
  {
   "cell_type": "code",
   "execution_count": null,
   "metadata": {
    "collapsed": true
   },
   "outputs": [],
   "source": [
    "features = category_names  + ['#female_founders', '#male_founders', '#total_founders', 'nth_startup']"
   ]
  },
  {
   "cell_type": "code",
   "execution_count": null,
   "metadata": {
    "collapsed": true
   },
   "outputs": [],
   "source": [
    "import numpy as np\n",
    "categories = np.array(categories)\n",
    "founders = np.array(data_tofit[['#female_founders', \n",
    "                                '#male_founders', \n",
    "                                '#total_founders', \n",
    "                                'nth_startup']]\n",
    "                    .fillna(0))"
   ]
  },
  {
   "cell_type": "code",
   "execution_count": null,
   "metadata": {},
   "outputs": [],
   "source": [
    "X = np.concatenate([categories,founders], axis=1)\n",
    "\n",
    "y = np.array(data_tofit.y)\n",
    "\n",
    "from sklearn.model_selection import train_test_split\n",
    "X_train, X_test, y_train, y_test = train_test_split(X, y)\n",
    "\n",
    "from sklearn.linear_model import LogisticRegression\n",
    "\n",
    "log_reg = LogisticRegression(class_weight='balanced')\n",
    "log_reg.fit(X_train, y_train)\n",
    "log_reg.score(X_test, y_test)\n",
    "#temp = list(zip(features,log_reg.coef_[0]))\n",
    "#temp.sort(reverse=True, key=lambda x: x[1])"
   ]
  },
  {
   "cell_type": "code",
   "execution_count": null,
   "metadata": {
    "collapsed": true
   },
   "outputs": [],
   "source": [
    "from sklearn.metrics import classification_report"
   ]
  },
  {
   "cell_type": "code",
   "execution_count": null,
   "metadata": {},
   "outputs": [],
   "source": [
    "print(classification_report(y_test, log_reg.predict(X_test)))"
   ]
  },
  {
   "cell_type": "code",
   "execution_count": null,
   "metadata": {},
   "outputs": [],
   "source": [
    "classes = log_reg.classes_\n",
    "coef_dict = {}\n",
    "\n",
    "for i, class_ in enumerate(classes):\n",
    "    coef_dict[class_] = log_reg.coef_[i]"
   ]
  },
  {
   "cell_type": "code",
   "execution_count": null,
   "metadata": {},
   "outputs": [],
   "source": [
    "coef_dict['dead'].shape"
   ]
  },
  {
   "cell_type": "code",
   "execution_count": null,
   "metadata": {},
   "outputs": [],
   "source": [
    "coef_dict[class_].shape"
   ]
  },
  {
   "cell_type": "code",
   "execution_count": null,
   "metadata": {},
   "outputs": [],
   "source": [
    "fig, axes = plt.subplots(5,1, figsize=(8,30))\n",
    "i = 0\n",
    "for class_ in coef_dict.keys():\n",
    "    axes[i].barh(np.arange(len(features)), coef_dict[class_])\n",
    "    axes[i].set_yticks(np.arange(len(features)))\n",
    "    axes[i].set_yticklabels(features)\n",
    "    axes[i].set_title(class_)\n",
    "    i += 1"
   ]
  },
  {
   "cell_type": "code",
   "execution_count": null,
   "metadata": {
    "collapsed": true
   },
   "outputs": [],
   "source": [
    "companies = company_df1[(company_df1['#total_founders'].isnull()) & (company_df1.y != \"others\")].permalink.tolist()\n",
    "company_need_person = company_df[company_df.permalink.isin(companies)]\n",
    "#company_need_person"
   ]
  },
  {
   "cell_type": "code",
   "execution_count": null,
   "metadata": {
    "collapsed": true
   },
   "outputs": [],
   "source": []
  },
  {
   "cell_type": "code",
   "execution_count": null,
   "metadata": {
    "collapsed": true
   },
   "outputs": [],
   "source": []
  },
  {
   "cell_type": "code",
   "execution_count": null,
   "metadata": {
    "collapsed": true
   },
   "outputs": [],
   "source": [
    "from sklearn.feature_extraction.text import CountVectorizer\n",
    "from sklearn.feature_extraction.text import TfidfTransformer\n",
    "\n",
    "\n",
    "count_vect = CountVectorizer(stop_words='english', max_features=1000)\n",
    "X_train_counts = count_vect.fit_transform(company_df.description)\n",
    "X_train_counts.shape\n",
    "\n",
    "text_features = count_vect.get_feature_names()\n",
    "\n",
    "tfidf_transformer = TfidfTransformer()\n",
    "X_train_tfidf = tfidf_transformer.fit_transform(X_train_counts)\n",
    "X_train_tfidf.toarray()"
   ]
  },
  {
   "cell_type": "code",
   "execution_count": null,
   "metadata": {
    "collapsed": true
   },
   "outputs": [],
   "source": []
  },
  {
   "cell_type": "code",
   "execution_count": null,
   "metadata": {
    "collapsed": true
   },
   "outputs": [],
   "source": []
  },
  {
   "cell_type": "code",
   "execution_count": null,
   "metadata": {
    "collapsed": true
   },
   "outputs": [],
   "source": []
  }
 ],
 "metadata": {
  "kernelspec": {
   "display_name": "Python 3",
   "language": "python",
   "name": "python3"
  },
  "language_info": {
   "codemirror_mode": {
    "name": "ipython",
    "version": 3
   },
   "file_extension": ".py",
   "mimetype": "text/x-python",
   "name": "python",
   "nbconvert_exporter": "python",
   "pygments_lexer": "ipython3",
   "version": "3.6.1"
  }
 },
 "nbformat": 4,
 "nbformat_minor": 2
}
