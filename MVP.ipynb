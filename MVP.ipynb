{
 "cells": [
  {
   "cell_type": "markdown",
   "metadata": {},
   "source": [
    "# Project McNulty1 MVP\n",
    "\n",
    "Using only category of a startup to predict if the startup is acquired, ipo, dead, raised_money, or other."
   ]
  },
  {
   "cell_type": "markdown",
   "metadata": {},
   "source": [
    "## load libraries"
   ]
  },
  {
   "cell_type": "code",
   "execution_count": 1,
   "metadata": {
    "collapsed": true
   },
   "outputs": [],
   "source": [
    "import pickle\n",
    "import glob\n",
    "import pandas as pd\n",
    "import numpy as np\n",
    "import matplotlib.pyplot as plt\n",
    "\n",
    "%matplotlib inline"
   ]
  },
  {
   "cell_type": "markdown",
   "metadata": {},
   "source": [
    "## load data"
   ]
  },
  {
   "cell_type": "code",
   "execution_count": 2,
   "metadata": {
    "collapsed": true
   },
   "outputs": [],
   "source": [
    "relationship_df = pickle.load(open('relationship_clean_df', 'rb'))\n",
    "person_df = pickle.load(open('person_clean_df', 'rb'))\n",
    "company_df = pickle.load(open('company_clean_df', 'rb'))\n",
    "degrees_df = pickle.load(open('degrees_clean_df', 'rb'))\n",
    "acquisitions_df = pickle.load(open('acquisitions_df', 'rb'))\n",
    "ipo_df = pickle.load(open('ipo_clean_df', 'rb'))"
   ]
  },
  {
   "cell_type": "markdown",
   "metadata": {},
   "source": [
    "## clean and prepare data"
   ]
  },
  {
   "cell_type": "code",
   "execution_count": 3,
   "metadata": {
    "collapsed": true
   },
   "outputs": [],
   "source": [
    "company_df['is_ipo'] = 1\n",
    "company_df.loc[company_df.ipo.isnull(), 'is_ipo'] = 0\n",
    "\n",
    "company_df['is_acquired'] = 1\n",
    "company_df.loc[company_df.acquisition.isnull(), 'is_acquired'] = 0\n",
    "\n",
    "company_df['is_dead'] = 1\n",
    "company_df.loc[company_df.deadpooled_year.isnull(), 'is_dead'] = 0\n",
    "\n",
    "company_df.number_of_employees = company_df.number_of_employees.fillna(-1)\n",
    "company_df.number_of_employees = company_df.number_of_employees.astype(\"int32\")"
   ]
  },
  {
   "cell_type": "code",
   "execution_count": 4,
   "metadata": {
    "collapsed": true
   },
   "outputs": [],
   "source": [
    "import re\n",
    "\n",
    "def get_raised_amount(x):\n",
    "    pattern = \"\\d.*\"\n",
    "    dollar_amount = re.search(pattern, x).group(0)\n",
    "        \n",
    "    if dollar_amount[-1].lower() == 'b':\n",
    "        return float(dollar_amount[:-1])*1e9\n",
    "\n",
    "    if dollar_amount[-1].lower() == 'm':\n",
    "        return float(dollar_amount[:-1])*1e6\n",
    "\n",
    "    elif dollar_amount[-1].lower() == 'k':\n",
    "        return float(dollar_amount[:-1])*1e3\n",
    "\n",
    "    else:\n",
    "        return dollar_amount\n",
    "        \n",
    "def get_currency(x):\n",
    "    pattern = \"([^\\d]*)\\d.*\"\n",
    "    m = re.search(pattern, x)\n",
    "    return m.group(1)\n",
    "\n",
    "company_df['money_raised'] = company_df.total_money_raised.apply(get_raised_amount)\n",
    "company_df.money_raised = company_df.money_raised.astype(\"int64\")"
   ]
  },
  {
   "cell_type": "code",
   "execution_count": 6,
   "metadata": {
    "collapsed": true
   },
   "outputs": [],
   "source": [
    "company_df['y'] = 'others'\n",
    "company_df.loc[company_df.money_raised > 0, 'y'] = 'raised_money'\n",
    "company_df.loc[company_df.is_ipo == 1,'y'] = 'ipo'\n",
    "company_df.loc[company_df.is_acquired == 1,'y'] = 'acquired'\n",
    "company_df.loc[company_df.is_dead == 1,'y'] = 'dead'\n"
   ]
  },
  {
   "cell_type": "code",
   "execution_count": 8,
   "metadata": {
    "collapsed": true
   },
   "outputs": [],
   "source": [
    "pickle.dump(company_df, open('company_clean_df', 'wb'))"
   ]
  },
  {
   "cell_type": "markdown",
   "metadata": {},
   "source": [
    "## Startup outcome distribution"
   ]
  },
  {
   "cell_type": "code",
   "execution_count": 116,
   "metadata": {},
   "outputs": [
    {
     "data": {
      "text/plain": [
       "<matplotlib.axes._subplots.AxesSubplot at 0x7f87f59d59b0>"
      ]
     },
     "execution_count": 116,
     "metadata": {},
     "output_type": "execute_result"
    },
    {
     "data": {
      "image/png": "[encoded data removed]",
      "text/plain": [
       "<matplotlib.figure.Figure at 0x7f87f59bc780>"
      ]
     },
     "metadata": {},
     "output_type": "display_data"
    }
   ],
   "source": [
    "company_df.y.hist()"
   ]
  },
  {
   "cell_type": "markdown",
   "metadata": {},
   "source": [
    "## build a KNN using startup category as the only feature"
   ]
  },
  {
   "cell_type": "code",
   "execution_count": 120,
   "metadata": {
    "collapsed": true
   },
   "outputs": [],
   "source": [
    "company_mvp_df = company_df[['category_code', 'y']]"
   ]
  },
  {
   "cell_type": "code",
   "execution_count": 130,
   "metadata": {
    "collapsed": true
   },
   "outputs": [],
   "source": [
    "company_mvp_df2 = pd.concat([company_mvp_df[company_mvp_df.y == 'others'].sample(frac=1/6),\n",
    "                             company_mvp_df[company_mvp_df.y != 'others']],\n",
    "                            axis=0)"
   ]
  },
  {
   "cell_type": "code",
   "execution_count": 134,
   "metadata": {
    "collapsed": true
   },
   "outputs": [],
   "source": [
    "company_mvp_df3 = pd.concat([pd.get_dummies(company_mvp_df2.category_code),\n",
    "                             company_mvp_df2.y],\n",
    "                            axis=1)"
   ]
  },
  {
   "cell_type": "code",
   "execution_count": 149,
   "metadata": {},
   "outputs": [
    {
     "name": "stdout",
     "output_type": "stream",
     "text": [
      "The MVP has an accuracy of 0.4623\n"
     ]
    }
   ],
   "source": [
    "from sklearn.neighbors import KNeighborsClassifier\n",
    "from sklearn.model_selection import train_test_split\n",
    "X = company_mvp_df3.iloc[:,:-1]\n",
    "y = company_mvp_df3.iloc[:,-1]\n",
    "X_train, X_test, y_train, y_test = train_test_split(X, y)\n",
    "\n",
    "KNN = KNeighborsClassifier()\n",
    "KNN.fit(X_train, y_train)\n",
    "print(\"The MVP has an accuracy of {:.4f}\".format(KNN.score(X_test, y_test)))"
   ]
  },
  {
   "cell_type": "code",
   "execution_count": null,
   "metadata": {
    "collapsed": true
   },
   "outputs": [],
   "source": []
  }
 ],
 "metadata": {
  "kernelspec": {
   "display_name": "Python 3",
   "language": "python",
   "name": "python3"
  },
  "language_info": {
   "codemirror_mode": {
    "name": "ipython",
    "version": 3
   },
   "file_extension": ".py",
   "mimetype": "text/x-python",
   "name": "python",
   "nbconvert_exporter": "python",
   "pygments_lexer": "ipython3",
   "version": "3.6.3"
  }
 },
 "nbformat": 4,
 "nbformat_minor": 2
}
